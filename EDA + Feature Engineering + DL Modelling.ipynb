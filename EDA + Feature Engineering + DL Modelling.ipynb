{
 "cells": [
  {
   "cell_type": "markdown",
   "metadata": {
    "papermill": {
     "duration": 0.028285,
     "end_time": "2022-02-28T22:03:25.253275",
     "exception": false,
     "start_time": "2022-02-28T22:03:25.224990",
     "status": "completed"
    },
    "tags": []
   },
   "source": [
    "# Part 1: Exploratory Data Analysis"
   ]
  },
  {
   "cell_type": "code",
   "execution_count": 1,
   "metadata": {
    "_cell_guid": "b1076dfc-b9ad-4769-8c92-a6c4dae69d19",
    "_uuid": "8f2839f25d086af736a60e9eeb907d3b93b6e0e5",
    "execution": {
     "iopub.execute_input": "2022-02-28T22:03:25.309025Z",
     "iopub.status.busy": "2022-02-28T22:03:25.308199Z",
     "iopub.status.idle": "2022-02-28T22:03:25.315274Z",
     "shell.execute_reply": "2022-02-28T22:03:25.315688Z",
     "shell.execute_reply.started": "2022-02-28T22:02:44.119125Z"
    },
    "papermill": {
     "duration": 0.038368,
     "end_time": "2022-02-28T22:03:25.315917",
     "exception": false,
     "start_time": "2022-02-28T22:03:25.277549",
     "status": "completed"
    },
    "tags": []
   },
   "outputs": [],
   "source": [
    "import numpy as np\n",
    "import pandas as pd\n",
    "import matplotlib.pyplot as plt\n",
    "%matplotlib inline\n",
    "\n",
    "\n",
    "plt.style.use(\"seaborn\")\n",
    "pd.set_option(\"display.max_columns\", None)"
   ]
  },
  {
   "cell_type": "code",
   "execution_count": 2,
   "metadata": {
    "execution": {
     "iopub.execute_input": "2022-02-28T22:03:25.365623Z",
     "iopub.status.busy": "2022-02-28T22:03:25.364951Z",
     "iopub.status.idle": "2022-02-28T22:03:28.909487Z",
     "shell.execute_reply": "2022-02-28T22:03:28.910019Z",
     "shell.execute_reply.started": "2022-02-28T22:02:44.136226Z"
    },
    "papermill": {
     "duration": 3.571382,
     "end_time": "2022-02-28T22:03:28.910169",
     "exception": false,
     "start_time": "2022-02-28T22:03:25.338787",
     "status": "completed"
    },
    "tags": []
   },
   "outputs": [
    {
     "data": {
      "text/html": [
       "<div>\n",
       "<style scoped>\n",
       "    .dataframe tbody tr th:only-of-type {\n",
       "        vertical-align: middle;\n",
       "    }\n",
       "\n",
       "    .dataframe tbody tr th {\n",
       "        vertical-align: top;\n",
       "    }\n",
       "\n",
       "    .dataframe thead th {\n",
       "        text-align: right;\n",
       "    }\n",
       "</style>\n",
       "<table border=\"1\" class=\"dataframe\">\n",
       "  <thead>\n",
       "    <tr style=\"text-align: right;\">\n",
       "      <th></th>\n",
       "      <th>PostId</th>\n",
       "      <th>PostCreationDate</th>\n",
       "      <th>OwnerUserId</th>\n",
       "      <th>OwnerCreationDate</th>\n",
       "      <th>ReputationAtPostCreation</th>\n",
       "      <th>OwnerUndeletedAnswerCountAtPostTime</th>\n",
       "      <th>Title</th>\n",
       "      <th>BodyMarkdown</th>\n",
       "      <th>Tag1</th>\n",
       "      <th>Tag2</th>\n",
       "      <th>Tag3</th>\n",
       "      <th>Tag4</th>\n",
       "      <th>Tag5</th>\n",
       "      <th>PostClosedDate</th>\n",
       "      <th>OpenStatus</th>\n",
       "    </tr>\n",
       "  </thead>\n",
       "  <tbody>\n",
       "    <tr>\n",
       "      <th>0</th>\n",
       "      <td>6046168</td>\n",
       "      <td>05/18/2011 14:14:05</td>\n",
       "      <td>543315</td>\n",
       "      <td>09/17/2010 10:15:06</td>\n",
       "      <td>1</td>\n",
       "      <td>2</td>\n",
       "      <td>For Mongodb is it better to reference an objec...</td>\n",
       "      <td>I am building a corpus of indexed sentences in...</td>\n",
       "      <td>mongodb</td>\n",
       "      <td>NaN</td>\n",
       "      <td>NaN</td>\n",
       "      <td>NaN</td>\n",
       "      <td>NaN</td>\n",
       "      <td>NaN</td>\n",
       "      <td>open</td>\n",
       "    </tr>\n",
       "    <tr>\n",
       "      <th>1</th>\n",
       "      <td>4873911</td>\n",
       "      <td>02/02/2011 11:30:10</td>\n",
       "      <td>465076</td>\n",
       "      <td>10/03/2010 09:30:58</td>\n",
       "      <td>192</td>\n",
       "      <td>24</td>\n",
       "      <td>How to insert schemalocation in a xml document...</td>\n",
       "      <td>i create a xml document with JAXP and search a...</td>\n",
       "      <td>dom</td>\n",
       "      <td>xsd</td>\n",
       "      <td>jaxp</td>\n",
       "      <td>NaN</td>\n",
       "      <td>NaN</td>\n",
       "      <td>NaN</td>\n",
       "      <td>open</td>\n",
       "    </tr>\n",
       "    <tr>\n",
       "      <th>2</th>\n",
       "      <td>3311559</td>\n",
       "      <td>07/22/2010 17:21:54</td>\n",
       "      <td>406143</td>\n",
       "      <td>07/22/2010 16:58:20</td>\n",
       "      <td>1</td>\n",
       "      <td>0</td>\n",
       "      <td>Too many lookup tables</td>\n",
       "      <td>What are the adverse effects of having too man...</td>\n",
       "      <td>sql-server</td>\n",
       "      <td>database-design</td>\n",
       "      <td>enums</td>\n",
       "      <td>NaN</td>\n",
       "      <td>NaN</td>\n",
       "      <td>NaN</td>\n",
       "      <td>open</td>\n",
       "    </tr>\n",
       "    <tr>\n",
       "      <th>3</th>\n",
       "      <td>9990413</td>\n",
       "      <td>04/03/2012 09:18:39</td>\n",
       "      <td>851755</td>\n",
       "      <td>07/19/2011 10:22:40</td>\n",
       "      <td>4</td>\n",
       "      <td>1</td>\n",
       "      <td>What is this PHP code in VB.net</td>\n",
       "      <td>I am looking for the vb.net equivalent of this...</td>\n",
       "      <td>php</td>\n",
       "      <td>vb.net</td>\n",
       "      <td>NaN</td>\n",
       "      <td>NaN</td>\n",
       "      <td>NaN</td>\n",
       "      <td>04/15/2012 21:12:48</td>\n",
       "      <td>too localized</td>\n",
       "    </tr>\n",
       "    <tr>\n",
       "      <th>4</th>\n",
       "      <td>10421966</td>\n",
       "      <td>05/02/2012 21:25:01</td>\n",
       "      <td>603588</td>\n",
       "      <td>02/04/2011 18:05:34</td>\n",
       "      <td>334</td>\n",
       "      <td>14</td>\n",
       "      <td>Spring-Data mongodb querying multiple classes ...</td>\n",
       "      <td>With Spring-Data, you can use the @Document an...</td>\n",
       "      <td>mongodb</td>\n",
       "      <td>spring-data</td>\n",
       "      <td>NaN</td>\n",
       "      <td>NaN</td>\n",
       "      <td>NaN</td>\n",
       "      <td>NaN</td>\n",
       "      <td>open</td>\n",
       "    </tr>\n",
       "  </tbody>\n",
       "</table>\n",
       "</div>"
      ],
      "text/plain": [
       "     PostId     PostCreationDate  OwnerUserId    OwnerCreationDate  \\\n",
       "0   6046168  05/18/2011 14:14:05       543315  09/17/2010 10:15:06   \n",
       "1   4873911  02/02/2011 11:30:10       465076  10/03/2010 09:30:58   \n",
       "2   3311559  07/22/2010 17:21:54       406143  07/22/2010 16:58:20   \n",
       "3   9990413  04/03/2012 09:18:39       851755  07/19/2011 10:22:40   \n",
       "4  10421966  05/02/2012 21:25:01       603588  02/04/2011 18:05:34   \n",
       "\n",
       "   ReputationAtPostCreation  OwnerUndeletedAnswerCountAtPostTime  \\\n",
       "0                         1                                    2   \n",
       "1                       192                                   24   \n",
       "2                         1                                    0   \n",
       "3                         4                                    1   \n",
       "4                       334                                   14   \n",
       "\n",
       "                                               Title  \\\n",
       "0  For Mongodb is it better to reference an objec...   \n",
       "1  How to insert schemalocation in a xml document...   \n",
       "2                            Too many lookup tables    \n",
       "3                    What is this PHP code in VB.net   \n",
       "4  Spring-Data mongodb querying multiple classes ...   \n",
       "\n",
       "                                        BodyMarkdown        Tag1  \\\n",
       "0  I am building a corpus of indexed sentences in...     mongodb   \n",
       "1  i create a xml document with JAXP and search a...         dom   \n",
       "2  What are the adverse effects of having too man...  sql-server   \n",
       "3  I am looking for the vb.net equivalent of this...         php   \n",
       "4  With Spring-Data, you can use the @Document an...     mongodb   \n",
       "\n",
       "              Tag2   Tag3 Tag4 Tag5       PostClosedDate     OpenStatus  \n",
       "0              NaN    NaN  NaN  NaN                  NaN           open  \n",
       "1              xsd   jaxp  NaN  NaN                  NaN           open  \n",
       "2  database-design  enums  NaN  NaN                  NaN           open  \n",
       "3           vb.net    NaN  NaN  NaN  04/15/2012 21:12:48  too localized  \n",
       "4      spring-data    NaN  NaN  NaN                  NaN           open  "
      ]
     },
     "execution_count": 2,
     "metadata": {},
     "output_type": "execute_result"
    }
   ],
   "source": [
    "df = pd.read_csv(\"../input/predict-closed-questions-on-stack-overflow/train-sample.csv\")\n",
    "df.head()"
   ]
  },
  {
   "cell_type": "code",
   "execution_count": 3,
   "metadata": {
    "execution": {
     "iopub.execute_input": "2022-02-28T22:03:28.962388Z",
     "iopub.status.busy": "2022-02-28T22:03:28.960658Z",
     "iopub.status.idle": "2022-02-28T22:03:28.964668Z",
     "shell.execute_reply": "2022-02-28T22:03:28.964012Z",
     "shell.execute_reply.started": "2022-02-28T22:02:46.146679Z"
    },
    "papermill": {
     "duration": 0.031568,
     "end_time": "2022-02-28T22:03:28.964810",
     "exception": false,
     "start_time": "2022-02-28T22:03:28.933242",
     "status": "completed"
    },
    "tags": []
   },
   "outputs": [
    {
     "name": "stdout",
     "output_type": "stream",
     "text": [
      "Total rows: 140272\n",
      "Total columns: 15\n"
     ]
    }
   ],
   "source": [
    "print(\"Total rows:\", df.shape[0])\n",
    "print(\"Total columns:\", df.shape[1])"
   ]
  },
  {
   "cell_type": "markdown",
   "metadata": {
    "papermill": {
     "duration": 0.023045,
     "end_time": "2022-02-28T22:03:29.012163",
     "exception": false,
     "start_time": "2022-02-28T22:03:28.989118",
     "status": "completed"
    },
    "tags": []
   },
   "source": [
    "The **PostId** and **OwnerUserId** columns are ID columns and do not have any predictive power so they can be dropped."
   ]
  },
  {
   "cell_type": "code",
   "execution_count": 4,
   "metadata": {
    "execution": {
     "iopub.execute_input": "2022-02-28T22:03:29.089696Z",
     "iopub.status.busy": "2022-02-28T22:03:29.088008Z",
     "iopub.status.idle": "2022-02-28T22:03:29.090298Z",
     "shell.execute_reply": "2022-02-28T22:03:29.090692Z",
     "shell.execute_reply.started": "2022-02-28T22:02:46.155846Z"
    },
    "papermill": {
     "duration": 0.054138,
     "end_time": "2022-02-28T22:03:29.090834",
     "exception": false,
     "start_time": "2022-02-28T22:03:29.036696",
     "status": "completed"
    },
    "tags": []
   },
   "outputs": [],
   "source": [
    "df.drop(columns=[\"PostId\", \"OwnerUserId\"], inplace=True)"
   ]
  },
  {
   "cell_type": "markdown",
   "metadata": {
    "papermill": {
     "duration": 0.022693,
     "end_time": "2022-02-28T22:03:29.136672",
     "exception": false,
     "start_time": "2022-02-28T22:03:29.113979",
     "status": "completed"
    },
    "tags": []
   },
   "source": [
    "Analysing the number of unique values in various columns"
   ]
  },
  {
   "cell_type": "code",
   "execution_count": 5,
   "metadata": {
    "execution": {
     "iopub.execute_input": "2022-02-28T22:03:29.195837Z",
     "iopub.status.busy": "2022-02-28T22:03:29.195086Z",
     "iopub.status.idle": "2022-02-28T22:03:29.718136Z",
     "shell.execute_reply": "2022-02-28T22:03:29.717461Z",
     "shell.execute_reply.started": "2022-02-28T22:02:46.185475Z"
    },
    "papermill": {
     "duration": 0.558502,
     "end_time": "2022-02-28T22:03:29.718281",
     "exception": false,
     "start_time": "2022-02-28T22:03:29.159779",
     "status": "completed"
    },
    "tags": []
   },
   "outputs": [
    {
     "data": {
      "text/plain": [
       "PostCreationDate                       140118\n",
       "OwnerCreationDate                       94149\n",
       "ReputationAtPostCreation                 6423\n",
       "OwnerUndeletedAnswerCountAtPostTime       965\n",
       "Title                                  140192\n",
       "BodyMarkdown                           140270\n",
       "Tag1                                     5209\n",
       "Tag2                                     9292\n",
       "Tag3                                    11080\n",
       "Tag4                                    10027\n",
       "Tag5                                     7605\n",
       "PostClosedDate                          70070\n",
       "OpenStatus                                  5\n",
       "dtype: int64"
      ]
     },
     "execution_count": 5,
     "metadata": {},
     "output_type": "execute_result"
    }
   ],
   "source": [
    "df.nunique()"
   ]
  },
  {
   "cell_type": "markdown",
   "metadata": {
    "papermill": {
     "duration": 0.023725,
     "end_time": "2022-02-28T22:03:29.765825",
     "exception": false,
     "start_time": "2022-02-28T22:03:29.742100",
     "status": "completed"
    },
    "tags": []
   },
   "source": [
    "Analysing the percentage of missing values in various columns:"
   ]
  },
  {
   "cell_type": "code",
   "execution_count": 6,
   "metadata": {
    "execution": {
     "iopub.execute_input": "2022-02-28T22:03:29.947624Z",
     "iopub.status.busy": "2022-02-28T22:03:29.946811Z",
     "iopub.status.idle": "2022-02-28T22:03:29.955347Z",
     "shell.execute_reply": "2022-02-28T22:03:29.955761Z",
     "shell.execute_reply.started": "2022-02-28T22:02:46.713555Z"
    },
    "papermill": {
     "duration": 0.166102,
     "end_time": "2022-02-28T22:03:29.955928",
     "exception": false,
     "start_time": "2022-02-28T22:03:29.789826",
     "status": "completed"
    },
    "tags": []
   },
   "outputs": [
    {
     "data": {
      "text/plain": [
       "PostCreationDate                        0.000000\n",
       "OwnerCreationDate                       0.000000\n",
       "ReputationAtPostCreation                0.000000\n",
       "OwnerUndeletedAnswerCountAtPostTime     0.000000\n",
       "Title                                   0.000000\n",
       "BodyMarkdown                            0.000000\n",
       "Tag1                                    0.007129\n",
       "Tag2                                   19.427256\n",
       "Tag3                                   45.880860\n",
       "Tag4                                   71.733489\n",
       "Tag5                                   88.797479\n",
       "PostClosedDate                         50.000000\n",
       "OpenStatus                              0.000000\n",
       "dtype: float64"
      ]
     },
     "execution_count": 6,
     "metadata": {},
     "output_type": "execute_result"
    }
   ],
   "source": [
    "df.isna().sum()*100/df.shape[0]"
   ]
  },
  {
   "cell_type": "markdown",
   "metadata": {
    "papermill": {
     "duration": 0.023339,
     "end_time": "2022-02-28T22:03:30.002994",
     "exception": false,
     "start_time": "2022-02-28T22:03:29.979655",
     "status": "completed"
    },
    "tags": []
   },
   "source": [
    "There are so many missing values in the columns **Tag2** to **Tag5** and **PostClosedDate** but only a small fraction of data points (about 160) in the **Tag1** column is missing. This tells that each question has atleast one tag associated with it. Moreover, some questions do not have any **BodyMarkdown** thus the content of such questions must be contained in the **Title**."
   ]
  },
  {
   "cell_type": "code",
   "execution_count": 7,
   "metadata": {
    "execution": {
     "iopub.execute_input": "2022-02-28T22:03:30.090768Z",
     "iopub.status.busy": "2022-02-28T22:03:30.089777Z",
     "iopub.status.idle": "2022-02-28T22:03:30.115889Z",
     "shell.execute_reply": "2022-02-28T22:03:30.116465Z",
     "shell.execute_reply.started": "2022-02-28T22:02:46.857692Z"
    },
    "papermill": {
     "duration": 0.088895,
     "end_time": "2022-02-28T22:03:30.116624",
     "exception": false,
     "start_time": "2022-02-28T22:03:30.027729",
     "status": "completed"
    },
    "tags": []
   },
   "outputs": [],
   "source": [
    "df.loc[df[\"Tag1\"].isna(), \"Tag1\"] = df[\"Tag1\"].mode()\n",
    "\n",
    "drop_cols = [\"Tag2\", \"Tag3\", \"Tag4\", \"Tag5\", \"PostClosedDate\"]\n",
    "df.drop(drop_cols, axis=1, inplace=True)"
   ]
  },
  {
   "cell_type": "markdown",
   "metadata": {
    "papermill": {
     "duration": 0.023229,
     "end_time": "2022-02-28T22:03:30.163491",
     "exception": false,
     "start_time": "2022-02-28T22:03:30.140262",
     "status": "completed"
    },
    "tags": []
   },
   "source": [
    "Renaming some columns with very long names"
   ]
  },
  {
   "cell_type": "code",
   "execution_count": 8,
   "metadata": {
    "execution": {
     "iopub.execute_input": "2022-02-28T22:03:30.216454Z",
     "iopub.status.busy": "2022-02-28T22:03:30.215670Z",
     "iopub.status.idle": "2022-02-28T22:03:30.217783Z",
     "shell.execute_reply": "2022-02-28T22:03:30.218221Z",
     "shell.execute_reply.started": "2022-02-28T22:02:46.922672Z"
    },
    "papermill": {
     "duration": 0.031081,
     "end_time": "2022-02-28T22:03:30.218373",
     "exception": false,
     "start_time": "2022-02-28T22:03:30.187292",
     "status": "completed"
    },
    "tags": []
   },
   "outputs": [],
   "source": [
    "name_map = {\n",
    "    \"PostCreationDate\": \"PostDate\",\n",
    "    \"OwnerCreationDate\": \"OwnrDate\",\n",
    "    \"ReputationAtPostCreation\": \"OwnrRep\",\n",
    "    \"OwnerUndeletedAnswerCountAtPostTime\": \"AnsCount\"\n",
    "}\n",
    "\n",
    "df.rename(columns=name_map, inplace=True)"
   ]
  },
  {
   "cell_type": "markdown",
   "metadata": {
    "papermill": {
     "duration": 0.023257,
     "end_time": "2022-02-28T22:03:30.264978",
     "exception": false,
     "start_time": "2022-02-28T22:03:30.241721",
     "status": "completed"
    },
    "tags": []
   },
   "source": [
    "# Part 2: Feature Engineering"
   ]
  },
  {
   "cell_type": "markdown",
   "metadata": {
    "papermill": {
     "duration": 0.023852,
     "end_time": "2022-02-28T22:03:30.312328",
     "exception": false,
     "start_time": "2022-02-28T22:03:30.288476",
     "status": "completed"
    },
    "tags": []
   },
   "source": [
    "We can extract several date and time features from the columns - **PostCreationDate** and **OwnerCreationDate** - and binary encoding them. Further, we can create a new feature signifying how old the owner account is by finding the difference between these two datetime columns in seconds."
   ]
  },
  {
   "cell_type": "code",
   "execution_count": 9,
   "metadata": {
    "execution": {
     "iopub.execute_input": "2022-02-28T22:03:30.370307Z",
     "iopub.status.busy": "2022-02-28T22:03:30.369447Z",
     "iopub.status.idle": "2022-02-28T22:03:57.933122Z",
     "shell.execute_reply": "2022-02-28T22:03:57.933536Z"
    },
    "papermill": {
     "duration": 27.597889,
     "end_time": "2022-02-28T22:03:57.933701",
     "exception": false,
     "start_time": "2022-02-28T22:03:30.335812",
     "status": "completed"
    },
    "tags": []
   },
   "outputs": [],
   "source": [
    "import category_encoders as ce\n",
    "\n",
    "\n",
    "def datetime_features(df):\n",
    "    df[\"PostDate\"] = pd.to_datetime(df[\"PostDate\"])\n",
    "    df[\"OwnrDate\"] = pd.to_datetime(df[\"OwnrDate\"])\n",
    "\n",
    "    df[\"PostDay\"] = df[\"PostDate\"].dt.dayofweek\n",
    "    df[\"PostMonth\"] = df[\"PostDate\"].dt.month\n",
    "    df[\"PostYear\"] = df[\"PostDate\"].dt.year\n",
    "    df[\"PostHour\"] = df[\"PostDate\"].dt.hour\n",
    "    df[\"PostMin\"] = df[\"PostDate\"].dt.minute\n",
    "\n",
    "    df[\"OwnrDay\"] = df[\"OwnrDate\"].dt.weekday\n",
    "    df[\"OwnrMonth\"] = df[\"OwnrDate\"].dt.month\n",
    "    df[\"OwnrYear\"] = df[\"OwnrDate\"].dt.year\n",
    "    df[\"OwnrHour\"] = df[\"OwnrDate\"].dt.hour\n",
    "    df[\"OwnrMin\"] = df[\"OwnrDate\"].dt.minute\n",
    "\n",
    "    df[\"AccAge\"] = (df[\"PostDate\"] - df[\"OwnrDate\"])/np.timedelta64(1, 's')\n",
    "\n",
    "    del df[\"PostDate\"]\n",
    "    del df[\"OwnrDate\"]\n",
    "\n",
    "    cols = [\n",
    "        \"PostDay\",\n",
    "        \"PostMonth\",\n",
    "        \"PostYear\",\n",
    "        \"PostHour\",\n",
    "        \"PostMin\",\n",
    "        \"OwnrDay\",\n",
    "        \"OwnrMonth\",\n",
    "        \"OwnrYear\",\n",
    "        \"OwnrHour\",\n",
    "        \"OwnrMin\"\n",
    "    ]\n",
    "\n",
    "    encoder = ce.binary.BinaryEncoder(cols=cols)\n",
    "    sub_cols = encoder.fit_transform(df[cols])\n",
    "\n",
    "    df = pd.concat([df, sub_cols], axis=1)\n",
    "    df.drop(cols, axis=1, inplace=True)\n",
    "\n",
    "    return df\n",
    "\n",
    "\n",
    "df = datetime_features(df)"
   ]
  },
  {
   "cell_type": "markdown",
   "metadata": {
    "papermill": {
     "duration": 0.023618,
     "end_time": "2022-02-28T22:03:57.981811",
     "exception": false,
     "start_time": "2022-02-28T22:03:57.958193",
     "status": "completed"
    },
    "tags": []
   },
   "source": [
    "Concatenating **Title** and **BodyMarkdown** to form a new column **QuestionText**."
   ]
  },
  {
   "cell_type": "code",
   "execution_count": 10,
   "metadata": {
    "execution": {
     "iopub.execute_input": "2022-02-28T22:03:58.136412Z",
     "iopub.status.busy": "2022-02-28T22:03:58.125149Z",
     "iopub.status.idle": "2022-02-28T22:03:58.168336Z",
     "shell.execute_reply": "2022-02-28T22:03:58.167816Z"
    },
    "papermill": {
     "duration": 0.162916,
     "end_time": "2022-02-28T22:03:58.168465",
     "exception": false,
     "start_time": "2022-02-28T22:03:58.005549",
     "status": "completed"
    },
    "tags": []
   },
   "outputs": [],
   "source": [
    "df[\"BodyMarkdown\"] = df[\"Title\"] + df[\"BodyMarkdown\"]\n",
    "df.drop(columns=[\"Title\"], axis=1, inplace=True)\n",
    "df.rename(columns={\"BodyMarkdown\":\"QuestionText\"}, inplace=True)"
   ]
  },
  {
   "cell_type": "markdown",
   "metadata": {
    "papermill": {
     "duration": 0.023514,
     "end_time": "2022-02-28T22:03:58.216356",
     "exception": false,
     "start_time": "2022-02-28T22:03:58.192842",
     "status": "completed"
    },
    "tags": []
   },
   "source": [
    "Since, **Tag1** has many classes, one-hot encoding won't be a good idea. Performing binary encoding to encode all the categorical features. Also label encoding the target label since they are strings."
   ]
  },
  {
   "cell_type": "code",
   "execution_count": 11,
   "metadata": {
    "execution": {
     "iopub.execute_input": "2022-02-28T22:03:58.273458Z",
     "iopub.status.busy": "2022-02-28T22:03:58.272929Z",
     "iopub.status.idle": "2022-02-28T22:03:58.558102Z",
     "shell.execute_reply": "2022-02-28T22:03:58.557558Z"
    },
    "papermill": {
     "duration": 0.317457,
     "end_time": "2022-02-28T22:03:58.558232",
     "exception": false,
     "start_time": "2022-02-28T22:03:58.240775",
     "status": "completed"
    },
    "tags": []
   },
   "outputs": [],
   "source": [
    "import category_encoders as ce\n",
    "\n",
    "\n",
    "encoder = ce.binary.BinaryEncoder()\n",
    "tag1_bits = encoder.fit_transform(df[\"Tag1\"])\n",
    "\n",
    "df = pd.concat([df, tag1_bits], axis=1)\n",
    "df.drop([\"Tag1\"], axis=1, inplace=True)\n",
    "\n",
    "target_map = {\n",
    "    \"not a real question\": 0,\n",
    "    \"not constructive\": 1,\n",
    "    \"off topic\": 2,\n",
    "    \"open\": 3,\n",
    "    \"too localized\": 4\n",
    "}\n",
    "\n",
    "df[\"OpenStatus\"] = df[\"OpenStatus\"].map(target_map)"
   ]
  },
  {
   "cell_type": "code",
   "execution_count": 12,
   "metadata": {
    "execution": {
     "iopub.execute_input": "2022-02-28T22:03:58.633676Z",
     "iopub.status.busy": "2022-02-28T22:03:58.628847Z",
     "iopub.status.idle": "2022-02-28T22:03:58.636540Z",
     "shell.execute_reply": "2022-02-28T22:03:58.636974Z"
    },
    "papermill": {
     "duration": 0.054363,
     "end_time": "2022-02-28T22:03:58.637116",
     "exception": false,
     "start_time": "2022-02-28T22:03:58.582753",
     "status": "completed"
    },
    "tags": []
   },
   "outputs": [
    {
     "data": {
      "text/html": [
       "<div>\n",
       "<style scoped>\n",
       "    .dataframe tbody tr th:only-of-type {\n",
       "        vertical-align: middle;\n",
       "    }\n",
       "\n",
       "    .dataframe tbody tr th {\n",
       "        vertical-align: top;\n",
       "    }\n",
       "\n",
       "    .dataframe thead th {\n",
       "        text-align: right;\n",
       "    }\n",
       "</style>\n",
       "<table border=\"1\" class=\"dataframe\">\n",
       "  <thead>\n",
       "    <tr style=\"text-align: right;\">\n",
       "      <th></th>\n",
       "      <th>OwnrRep</th>\n",
       "      <th>AnsCount</th>\n",
       "      <th>QuestionText</th>\n",
       "      <th>OpenStatus</th>\n",
       "      <th>AccAge</th>\n",
       "      <th>PostDay_0</th>\n",
       "      <th>PostDay_1</th>\n",
       "      <th>PostDay_2</th>\n",
       "      <th>PostMonth_0</th>\n",
       "      <th>PostMonth_1</th>\n",
       "      <th>PostMonth_2</th>\n",
       "      <th>PostMonth_3</th>\n",
       "      <th>PostYear_0</th>\n",
       "      <th>PostYear_1</th>\n",
       "      <th>PostYear_2</th>\n",
       "      <th>PostHour_0</th>\n",
       "      <th>PostHour_1</th>\n",
       "      <th>PostHour_2</th>\n",
       "      <th>PostHour_3</th>\n",
       "      <th>PostHour_4</th>\n",
       "      <th>PostMin_0</th>\n",
       "      <th>PostMin_1</th>\n",
       "      <th>PostMin_2</th>\n",
       "      <th>PostMin_3</th>\n",
       "      <th>PostMin_4</th>\n",
       "      <th>PostMin_5</th>\n",
       "      <th>OwnrDay_0</th>\n",
       "      <th>OwnrDay_1</th>\n",
       "      <th>OwnrDay_2</th>\n",
       "      <th>OwnrMonth_0</th>\n",
       "      <th>OwnrMonth_1</th>\n",
       "      <th>OwnrMonth_2</th>\n",
       "      <th>OwnrMonth_3</th>\n",
       "      <th>OwnrYear_0</th>\n",
       "      <th>OwnrYear_1</th>\n",
       "      <th>OwnrYear_2</th>\n",
       "      <th>OwnrHour_0</th>\n",
       "      <th>OwnrHour_1</th>\n",
       "      <th>OwnrHour_2</th>\n",
       "      <th>OwnrHour_3</th>\n",
       "      <th>OwnrHour_4</th>\n",
       "      <th>OwnrMin_0</th>\n",
       "      <th>OwnrMin_1</th>\n",
       "      <th>OwnrMin_2</th>\n",
       "      <th>OwnrMin_3</th>\n",
       "      <th>OwnrMin_4</th>\n",
       "      <th>OwnrMin_5</th>\n",
       "      <th>Tag1_0</th>\n",
       "      <th>Tag1_1</th>\n",
       "      <th>Tag1_2</th>\n",
       "      <th>Tag1_3</th>\n",
       "      <th>Tag1_4</th>\n",
       "      <th>Tag1_5</th>\n",
       "      <th>Tag1_6</th>\n",
       "      <th>Tag1_7</th>\n",
       "      <th>Tag1_8</th>\n",
       "      <th>Tag1_9</th>\n",
       "      <th>Tag1_10</th>\n",
       "      <th>Tag1_11</th>\n",
       "      <th>Tag1_12</th>\n",
       "    </tr>\n",
       "  </thead>\n",
       "  <tbody>\n",
       "    <tr>\n",
       "      <th>0</th>\n",
       "      <td>1</td>\n",
       "      <td>2</td>\n",
       "      <td>For Mongodb is it better to reference an objec...</td>\n",
       "      <td>3</td>\n",
       "      <td>21009539.0</td>\n",
       "      <td>0</td>\n",
       "      <td>0</td>\n",
       "      <td>1</td>\n",
       "      <td>0</td>\n",
       "      <td>0</td>\n",
       "      <td>0</td>\n",
       "      <td>1</td>\n",
       "      <td>0</td>\n",
       "      <td>0</td>\n",
       "      <td>1</td>\n",
       "      <td>0</td>\n",
       "      <td>0</td>\n",
       "      <td>0</td>\n",
       "      <td>0</td>\n",
       "      <td>1</td>\n",
       "      <td>0</td>\n",
       "      <td>0</td>\n",
       "      <td>0</td>\n",
       "      <td>0</td>\n",
       "      <td>0</td>\n",
       "      <td>1</td>\n",
       "      <td>0</td>\n",
       "      <td>0</td>\n",
       "      <td>1</td>\n",
       "      <td>0</td>\n",
       "      <td>0</td>\n",
       "      <td>0</td>\n",
       "      <td>1</td>\n",
       "      <td>0</td>\n",
       "      <td>0</td>\n",
       "      <td>1</td>\n",
       "      <td>0</td>\n",
       "      <td>0</td>\n",
       "      <td>0</td>\n",
       "      <td>0</td>\n",
       "      <td>1</td>\n",
       "      <td>0</td>\n",
       "      <td>0</td>\n",
       "      <td>0</td>\n",
       "      <td>0</td>\n",
       "      <td>0</td>\n",
       "      <td>1</td>\n",
       "      <td>0</td>\n",
       "      <td>0</td>\n",
       "      <td>0</td>\n",
       "      <td>0</td>\n",
       "      <td>0</td>\n",
       "      <td>0</td>\n",
       "      <td>0</td>\n",
       "      <td>0</td>\n",
       "      <td>0</td>\n",
       "      <td>0</td>\n",
       "      <td>0</td>\n",
       "      <td>0</td>\n",
       "      <td>1</td>\n",
       "    </tr>\n",
       "    <tr>\n",
       "      <th>1</th>\n",
       "      <td>192</td>\n",
       "      <td>24</td>\n",
       "      <td>How to insert schemalocation in a xml document...</td>\n",
       "      <td>3</td>\n",
       "      <td>10547952.0</td>\n",
       "      <td>0</td>\n",
       "      <td>0</td>\n",
       "      <td>1</td>\n",
       "      <td>0</td>\n",
       "      <td>0</td>\n",
       "      <td>1</td>\n",
       "      <td>0</td>\n",
       "      <td>0</td>\n",
       "      <td>0</td>\n",
       "      <td>1</td>\n",
       "      <td>0</td>\n",
       "      <td>0</td>\n",
       "      <td>0</td>\n",
       "      <td>1</td>\n",
       "      <td>0</td>\n",
       "      <td>0</td>\n",
       "      <td>0</td>\n",
       "      <td>0</td>\n",
       "      <td>0</td>\n",
       "      <td>1</td>\n",
       "      <td>0</td>\n",
       "      <td>0</td>\n",
       "      <td>1</td>\n",
       "      <td>0</td>\n",
       "      <td>0</td>\n",
       "      <td>0</td>\n",
       "      <td>1</td>\n",
       "      <td>0</td>\n",
       "      <td>0</td>\n",
       "      <td>0</td>\n",
       "      <td>1</td>\n",
       "      <td>0</td>\n",
       "      <td>0</td>\n",
       "      <td>0</td>\n",
       "      <td>1</td>\n",
       "      <td>0</td>\n",
       "      <td>0</td>\n",
       "      <td>0</td>\n",
       "      <td>0</td>\n",
       "      <td>0</td>\n",
       "      <td>1</td>\n",
       "      <td>0</td>\n",
       "      <td>0</td>\n",
       "      <td>0</td>\n",
       "      <td>0</td>\n",
       "      <td>0</td>\n",
       "      <td>0</td>\n",
       "      <td>0</td>\n",
       "      <td>0</td>\n",
       "      <td>0</td>\n",
       "      <td>0</td>\n",
       "      <td>0</td>\n",
       "      <td>0</td>\n",
       "      <td>1</td>\n",
       "      <td>0</td>\n",
       "    </tr>\n",
       "    <tr>\n",
       "      <th>2</th>\n",
       "      <td>1</td>\n",
       "      <td>0</td>\n",
       "      <td>Too many lookup tables What are the adverse ef...</td>\n",
       "      <td>3</td>\n",
       "      <td>1414.0</td>\n",
       "      <td>0</td>\n",
       "      <td>1</td>\n",
       "      <td>0</td>\n",
       "      <td>0</td>\n",
       "      <td>0</td>\n",
       "      <td>1</td>\n",
       "      <td>1</td>\n",
       "      <td>0</td>\n",
       "      <td>1</td>\n",
       "      <td>0</td>\n",
       "      <td>0</td>\n",
       "      <td>0</td>\n",
       "      <td>0</td>\n",
       "      <td>1</td>\n",
       "      <td>1</td>\n",
       "      <td>0</td>\n",
       "      <td>0</td>\n",
       "      <td>0</td>\n",
       "      <td>0</td>\n",
       "      <td>1</td>\n",
       "      <td>1</td>\n",
       "      <td>0</td>\n",
       "      <td>1</td>\n",
       "      <td>1</td>\n",
       "      <td>0</td>\n",
       "      <td>0</td>\n",
       "      <td>1</td>\n",
       "      <td>1</td>\n",
       "      <td>0</td>\n",
       "      <td>0</td>\n",
       "      <td>1</td>\n",
       "      <td>0</td>\n",
       "      <td>0</td>\n",
       "      <td>0</td>\n",
       "      <td>1</td>\n",
       "      <td>1</td>\n",
       "      <td>0</td>\n",
       "      <td>0</td>\n",
       "      <td>0</td>\n",
       "      <td>0</td>\n",
       "      <td>1</td>\n",
       "      <td>1</td>\n",
       "      <td>0</td>\n",
       "      <td>0</td>\n",
       "      <td>0</td>\n",
       "      <td>0</td>\n",
       "      <td>0</td>\n",
       "      <td>0</td>\n",
       "      <td>0</td>\n",
       "      <td>0</td>\n",
       "      <td>0</td>\n",
       "      <td>0</td>\n",
       "      <td>0</td>\n",
       "      <td>1</td>\n",
       "      <td>1</td>\n",
       "    </tr>\n",
       "    <tr>\n",
       "      <th>3</th>\n",
       "      <td>4</td>\n",
       "      <td>1</td>\n",
       "      <td>What is this PHP code in VB.netI am looking fo...</td>\n",
       "      <td>4</td>\n",
       "      <td>22373759.0</td>\n",
       "      <td>0</td>\n",
       "      <td>1</td>\n",
       "      <td>1</td>\n",
       "      <td>0</td>\n",
       "      <td>1</td>\n",
       "      <td>0</td>\n",
       "      <td>0</td>\n",
       "      <td>0</td>\n",
       "      <td>1</td>\n",
       "      <td>1</td>\n",
       "      <td>0</td>\n",
       "      <td>0</td>\n",
       "      <td>1</td>\n",
       "      <td>0</td>\n",
       "      <td>0</td>\n",
       "      <td>0</td>\n",
       "      <td>0</td>\n",
       "      <td>0</td>\n",
       "      <td>1</td>\n",
       "      <td>0</td>\n",
       "      <td>0</td>\n",
       "      <td>1</td>\n",
       "      <td>0</td>\n",
       "      <td>0</td>\n",
       "      <td>0</td>\n",
       "      <td>0</td>\n",
       "      <td>1</td>\n",
       "      <td>1</td>\n",
       "      <td>0</td>\n",
       "      <td>1</td>\n",
       "      <td>0</td>\n",
       "      <td>0</td>\n",
       "      <td>0</td>\n",
       "      <td>0</td>\n",
       "      <td>0</td>\n",
       "      <td>1</td>\n",
       "      <td>0</td>\n",
       "      <td>0</td>\n",
       "      <td>0</td>\n",
       "      <td>1</td>\n",
       "      <td>0</td>\n",
       "      <td>0</td>\n",
       "      <td>0</td>\n",
       "      <td>0</td>\n",
       "      <td>0</td>\n",
       "      <td>0</td>\n",
       "      <td>0</td>\n",
       "      <td>0</td>\n",
       "      <td>0</td>\n",
       "      <td>0</td>\n",
       "      <td>0</td>\n",
       "      <td>0</td>\n",
       "      <td>1</td>\n",
       "      <td>0</td>\n",
       "      <td>0</td>\n",
       "    </tr>\n",
       "    <tr>\n",
       "      <th>4</th>\n",
       "      <td>334</td>\n",
       "      <td>14</td>\n",
       "      <td>Spring-Data mongodb querying multiple classes ...</td>\n",
       "      <td>3</td>\n",
       "      <td>39151167.0</td>\n",
       "      <td>0</td>\n",
       "      <td>0</td>\n",
       "      <td>1</td>\n",
       "      <td>0</td>\n",
       "      <td>0</td>\n",
       "      <td>0</td>\n",
       "      <td>1</td>\n",
       "      <td>0</td>\n",
       "      <td>1</td>\n",
       "      <td>1</td>\n",
       "      <td>0</td>\n",
       "      <td>0</td>\n",
       "      <td>1</td>\n",
       "      <td>0</td>\n",
       "      <td>1</td>\n",
       "      <td>0</td>\n",
       "      <td>0</td>\n",
       "      <td>0</td>\n",
       "      <td>1</td>\n",
       "      <td>0</td>\n",
       "      <td>1</td>\n",
       "      <td>0</td>\n",
       "      <td>0</td>\n",
       "      <td>1</td>\n",
       "      <td>0</td>\n",
       "      <td>1</td>\n",
       "      <td>0</td>\n",
       "      <td>0</td>\n",
       "      <td>0</td>\n",
       "      <td>1</td>\n",
       "      <td>0</td>\n",
       "      <td>0</td>\n",
       "      <td>0</td>\n",
       "      <td>1</td>\n",
       "      <td>0</td>\n",
       "      <td>0</td>\n",
       "      <td>0</td>\n",
       "      <td>0</td>\n",
       "      <td>0</td>\n",
       "      <td>1</td>\n",
       "      <td>0</td>\n",
       "      <td>1</td>\n",
       "      <td>0</td>\n",
       "      <td>0</td>\n",
       "      <td>0</td>\n",
       "      <td>0</td>\n",
       "      <td>0</td>\n",
       "      <td>0</td>\n",
       "      <td>0</td>\n",
       "      <td>0</td>\n",
       "      <td>0</td>\n",
       "      <td>0</td>\n",
       "      <td>0</td>\n",
       "      <td>0</td>\n",
       "      <td>1</td>\n",
       "    </tr>\n",
       "  </tbody>\n",
       "</table>\n",
       "</div>"
      ],
      "text/plain": [
       "   OwnrRep  AnsCount                                       QuestionText  \\\n",
       "0        1         2  For Mongodb is it better to reference an objec...   \n",
       "1      192        24  How to insert schemalocation in a xml document...   \n",
       "2        1         0  Too many lookup tables What are the adverse ef...   \n",
       "3        4         1  What is this PHP code in VB.netI am looking fo...   \n",
       "4      334        14  Spring-Data mongodb querying multiple classes ...   \n",
       "\n",
       "   OpenStatus      AccAge  PostDay_0  PostDay_1  PostDay_2  PostMonth_0  \\\n",
       "0           3  21009539.0          0          0          1            0   \n",
       "1           3  10547952.0          0          0          1            0   \n",
       "2           3      1414.0          0          1          0            0   \n",
       "3           4  22373759.0          0          1          1            0   \n",
       "4           3  39151167.0          0          0          1            0   \n",
       "\n",
       "   PostMonth_1  PostMonth_2  PostMonth_3  PostYear_0  PostYear_1  PostYear_2  \\\n",
       "0            0            0            1           0           0           1   \n",
       "1            0            1            0           0           0           1   \n",
       "2            0            1            1           0           1           0   \n",
       "3            1            0            0           0           1           1   \n",
       "4            0            0            1           0           1           1   \n",
       "\n",
       "   PostHour_0  PostHour_1  PostHour_2  PostHour_3  PostHour_4  PostMin_0  \\\n",
       "0           0           0           0           0           1          0   \n",
       "1           0           0           0           1           0          0   \n",
       "2           0           0           0           1           1          0   \n",
       "3           0           0           1           0           0          0   \n",
       "4           0           0           1           0           1          0   \n",
       "\n",
       "   PostMin_1  PostMin_2  PostMin_3  PostMin_4  PostMin_5  OwnrDay_0  \\\n",
       "0          0          0          0          0          1          0   \n",
       "1          0          0          0          1          0          0   \n",
       "2          0          0          0          1          1          0   \n",
       "3          0          0          1          0          0          1   \n",
       "4          0          0          1          0          1          0   \n",
       "\n",
       "   OwnrDay_1  OwnrDay_2  OwnrMonth_0  OwnrMonth_1  OwnrMonth_2  OwnrMonth_3  \\\n",
       "0          0          1            0            0            0            1   \n",
       "1          1          0            0            0            1            0   \n",
       "2          1          1            0            0            1            1   \n",
       "3          0          0            0            0            1            1   \n",
       "4          0          1            0            1            0            0   \n",
       "\n",
       "   OwnrYear_0  OwnrYear_1  OwnrYear_2  OwnrHour_0  OwnrHour_1  OwnrHour_2  \\\n",
       "0           0           0           1           0           0           0   \n",
       "1           0           0           1           0           0           0   \n",
       "2           0           0           1           0           0           0   \n",
       "3           0           1           0           0           0           0   \n",
       "4           0           1           0           0           0           1   \n",
       "\n",
       "   OwnrHour_3  OwnrHour_4  OwnrMin_0  OwnrMin_1  OwnrMin_2  OwnrMin_3  \\\n",
       "0           0           1          0          0          0          0   \n",
       "1           1           0          0          0          0          0   \n",
       "2           1           1          0          0          0          0   \n",
       "3           0           1          0          0          0          1   \n",
       "4           0           0          0          0          0          1   \n",
       "\n",
       "   OwnrMin_4  OwnrMin_5  Tag1_0  Tag1_1  Tag1_2  Tag1_3  Tag1_4  Tag1_5  \\\n",
       "0          0          1       0       0       0       0       0       0   \n",
       "1          1          0       0       0       0       0       0       0   \n",
       "2          1          1       0       0       0       0       0       0   \n",
       "3          0          0       0       0       0       0       0       0   \n",
       "4          0          1       0       0       0       0       0       0   \n",
       "\n",
       "   Tag1_6  Tag1_7  Tag1_8  Tag1_9  Tag1_10  Tag1_11  Tag1_12  \n",
       "0       0       0       0       0        0        0        1  \n",
       "1       0       0       0       0        0        1        0  \n",
       "2       0       0       0       0        0        1        1  \n",
       "3       0       0       0       0        1        0        0  \n",
       "4       0       0       0       0        0        0        1  "
      ]
     },
     "execution_count": 12,
     "metadata": {},
     "output_type": "execute_result"
    }
   ],
   "source": [
    "df.head()"
   ]
  },
  {
   "cell_type": "markdown",
   "metadata": {
    "papermill": {
     "duration": 0.024892,
     "end_time": "2022-02-28T22:03:58.687573",
     "exception": false,
     "start_time": "2022-02-28T22:03:58.662681",
     "status": "completed"
    },
    "tags": []
   },
   "source": [
    "# Part 3: Model building"
   ]
  },
  {
   "cell_type": "markdown",
   "metadata": {
    "papermill": {
     "duration": 0.024671,
     "end_time": "2022-02-28T22:03:58.737345",
     "exception": false,
     "start_time": "2022-02-28T22:03:58.712674",
     "status": "completed"
    },
    "tags": []
   },
   "source": [
    "Splitting the dataset into training and validation sets and then scaling with sklearn RobustScaler."
   ]
  },
  {
   "cell_type": "code",
   "execution_count": 13,
   "metadata": {
    "execution": {
     "iopub.execute_input": "2022-02-28T22:03:58.794962Z",
     "iopub.status.busy": "2022-02-28T22:03:58.794294Z",
     "iopub.status.idle": "2022-02-28T22:03:59.297051Z",
     "shell.execute_reply": "2022-02-28T22:03:59.297477Z"
    },
    "papermill": {
     "duration": 0.535056,
     "end_time": "2022-02-28T22:03:59.297641",
     "exception": false,
     "start_time": "2022-02-28T22:03:58.762585",
     "status": "completed"
    },
    "tags": []
   },
   "outputs": [],
   "source": [
    "from sklearn.model_selection import train_test_split\n",
    "from sklearn.preprocessing import RobustScaler\n",
    "\n",
    "\n",
    "train_df, val_df = train_test_split(df, test_size=0.2, shuffle=True, random_state=42, stratify=df[\"OpenStatus\"])\n",
    "del df\n",
    "\n",
    "train_text = train_df[[\"QuestionText\"]]\n",
    "train_meta = train_df.drop([\"OpenStatus\", \"QuestionText\"], axis=1)\n",
    "train_target = train_df[\"OpenStatus\"]\n",
    "del train_df\n",
    "\n",
    "val_text = val_df[[\"QuestionText\"]]\n",
    "val_meta = val_df.drop([\"OpenStatus\", \"QuestionText\"], axis=1)\n",
    "val_target = val_df[\"OpenStatus\"]\n",
    "del val_df\n",
    "\n",
    "scaler = RobustScaler()\n",
    "train_meta = scaler.fit_transform(train_meta)\n",
    "val_meta = scaler.transform(val_meta)"
   ]
  },
  {
   "cell_type": "markdown",
   "metadata": {
    "papermill": {
     "duration": 0.025408,
     "end_time": "2022-02-28T22:03:59.348857",
     "exception": false,
     "start_time": "2022-02-28T22:03:59.323449",
     "status": "completed"
    },
    "tags": []
   },
   "source": [
    "Since the dateset contains both text and meta data, we will require a multi-input neural network to process different kinds of input data type. The text data will pass through stacked LSTMs and then join with meta data where they will further pass through dense layers."
   ]
  },
  {
   "cell_type": "code",
   "execution_count": 14,
   "metadata": {
    "execution": {
     "iopub.execute_input": "2022-02-28T22:03:59.405613Z",
     "iopub.status.busy": "2022-02-28T22:03:59.404923Z",
     "iopub.status.idle": "2022-02-28T22:04:26.072468Z",
     "shell.execute_reply": "2022-02-28T22:04:26.071762Z"
    },
    "papermill": {
     "duration": 26.698249,
     "end_time": "2022-02-28T22:04:26.072654",
     "exception": false,
     "start_time": "2022-02-28T22:03:59.374405",
     "status": "completed"
    },
    "tags": []
   },
   "outputs": [
    {
     "name": "stderr",
     "output_type": "stream",
     "text": [
      "2022-02-28 22:04:04.195694: I tensorflow/stream_executor/cuda/cuda_gpu_executor.cc:937] successful NUMA node read from SysFS had negative value (-1), but there must be at least one NUMA node, so returning NUMA node zero\n",
      "2022-02-28 22:04:04.319876: I tensorflow/stream_executor/cuda/cuda_gpu_executor.cc:937] successful NUMA node read from SysFS had negative value (-1), but there must be at least one NUMA node, so returning NUMA node zero\n",
      "2022-02-28 22:04:04.321102: I tensorflow/stream_executor/cuda/cuda_gpu_executor.cc:937] successful NUMA node read from SysFS had negative value (-1), but there must be at least one NUMA node, so returning NUMA node zero\n",
      "2022-02-28 22:04:04.322560: I tensorflow/core/platform/cpu_feature_guard.cc:142] This TensorFlow binary is optimized with oneAPI Deep Neural Network Library (oneDNN) to use the following CPU instructions in performance-critical operations:  AVX2 AVX512F FMA\n",
      "To enable them in other operations, rebuild TensorFlow with the appropriate compiler flags.\n",
      "2022-02-28 22:04:04.323423: I tensorflow/stream_executor/cuda/cuda_gpu_executor.cc:937] successful NUMA node read from SysFS had negative value (-1), but there must be at least one NUMA node, so returning NUMA node zero\n",
      "2022-02-28 22:04:04.324471: I tensorflow/stream_executor/cuda/cuda_gpu_executor.cc:937] successful NUMA node read from SysFS had negative value (-1), but there must be at least one NUMA node, so returning NUMA node zero\n",
      "2022-02-28 22:04:04.325321: I tensorflow/stream_executor/cuda/cuda_gpu_executor.cc:937] successful NUMA node read from SysFS had negative value (-1), but there must be at least one NUMA node, so returning NUMA node zero\n",
      "2022-02-28 22:04:06.086098: I tensorflow/stream_executor/cuda/cuda_gpu_executor.cc:937] successful NUMA node read from SysFS had negative value (-1), but there must be at least one NUMA node, so returning NUMA node zero\n",
      "2022-02-28 22:04:06.086932: I tensorflow/stream_executor/cuda/cuda_gpu_executor.cc:937] successful NUMA node read from SysFS had negative value (-1), but there must be at least one NUMA node, so returning NUMA node zero\n",
      "2022-02-28 22:04:06.087568: I tensorflow/stream_executor/cuda/cuda_gpu_executor.cc:937] successful NUMA node read from SysFS had negative value (-1), but there must be at least one NUMA node, so returning NUMA node zero\n",
      "2022-02-28 22:04:06.088142: I tensorflow/core/common_runtime/gpu/gpu_device.cc:1510] Created device /job:localhost/replica:0/task:0/device:GPU:0 with 15403 MB memory:  -> device: 0, name: Tesla P100-PCIE-16GB, pci bus id: 0000:00:04.0, compute capability: 6.0\n",
      "2022-02-28 22:04:06.558570: I tensorflow/compiler/mlir/mlir_graph_optimization_pass.cc:185] None of the MLIR Optimization Passes are enabled (registered 2)\n"
     ]
    },
    {
     "name": "stdout",
     "output_type": "stream",
     "text": [
      "Total tokens in training data: 725844\n"
     ]
    },
    {
     "name": "stderr",
     "output_type": "stream",
     "text": [
      "2022-02-28 22:04:23.347992: W tensorflow/core/framework/cpu_allocator_impl.cc:80] Allocation of 4435713576 exceeds 10% of free system memory.\n"
     ]
    },
    {
     "name": "stdout",
     "output_type": "stream",
     "text": [
      "Largest length of any sequence: 4941\n"
     ]
    }
   ],
   "source": [
    "from tensorflow.keras.layers import TextVectorization\n",
    "\n",
    "\n",
    "text2vec = TextVectorization()\n",
    "text2vec.adapt(train_text)\n",
    "\n",
    "print(\"Total tokens in training data:\", text2vec.vocabulary_size())\n",
    "print(\"Largest length of any sequence:\", text2vec(train_text).shape[1])"
   ]
  },
  {
   "cell_type": "code",
   "execution_count": 15,
   "metadata": {
    "execution": {
     "iopub.execute_input": "2022-02-28T22:04:26.138623Z",
     "iopub.status.busy": "2022-02-28T22:04:26.137833Z",
     "iopub.status.idle": "2022-02-28T22:04:38.658519Z",
     "shell.execute_reply": "2022-02-28T22:04:38.659119Z"
    },
    "papermill": {
     "duration": 12.558165,
     "end_time": "2022-02-28T22:04:38.659320",
     "exception": false,
     "start_time": "2022-02-28T22:04:26.101155",
     "status": "completed"
    },
    "tags": []
   },
   "outputs": [
    {
     "name": "stdout",
     "output_type": "stream",
     "text": [
      "Model: \"NLP_Model\"\n",
      "__________________________________________________________________________________________________\n",
      "Layer (type)                    Output Shape         Param #     Connected to                     \n",
      "==================================================================================================\n",
      "text_input (InputLayer)         [(None, 1)]          0                                            \n",
      "__________________________________________________________________________________________________\n",
      "text2vec (TextVectorization)    (None, 150)          0           text_input[0][0]                 \n",
      "__________________________________________________________________________________________________\n",
      "embedding (Embedding)           (None, 150, 50)      500000      text2vec[0][0]                   \n",
      "__________________________________________________________________________________________________\n",
      "hidden_lstm (LSTM)              (None, 128)          91648       embedding[0][0]                  \n",
      "__________________________________________________________________________________________________\n",
      "meta_input (InputLayer)         [(None, 58)]         0                                            \n",
      "__________________________________________________________________________________________________\n",
      "concatenate (Concatenate)       (None, 186)          0           hidden_lstm[0][0]                \n",
      "                                                                 meta_input[0][0]                 \n",
      "__________________________________________________________________________________________________\n",
      "hidden_dense_1 (Dense)          (None, 256)          47872       concatenate[0][0]                \n",
      "__________________________________________________________________________________________________\n",
      "batch_normalization (BatchNorma (None, 256)          1024        hidden_dense_1[0][0]             \n",
      "__________________________________________________________________________________________________\n",
      "hidden_dense_2 (Dense)          (None, 64)           16448       batch_normalization[0][0]        \n",
      "__________________________________________________________________________________________________\n",
      "softmax_output (Dense)          (None, 5)            325         hidden_dense_2[0][0]             \n",
      "==================================================================================================\n",
      "Total params: 657,317\n",
      "Trainable params: 656,805\n",
      "Non-trainable params: 512\n",
      "__________________________________________________________________________________________________\n"
     ]
    }
   ],
   "source": [
    "import tensorflow as tf\n",
    "from tensorflow.keras import layers\n",
    "from tensorflow.keras import Model\n",
    "\n",
    "\n",
    "MAX_TOKENS = 10000\n",
    "MAX_LEN = 150\n",
    "EMBED_DIM = 50\n",
    "NUM_CLASSES = train_target.nunique()\n",
    "\n",
    "text2vec = TextVectorization(max_tokens=MAX_TOKENS, output_sequence_length=MAX_LEN, name=\"text2vec\")\n",
    "text2vec.adapt(train_text)\n",
    "\n",
    "text_input = layers.Input(shape=(1,), dtype=tf.string, name=\"text_input\")\n",
    "x = text2vec(text_input)\n",
    "x = layers.Embedding(input_dim=MAX_TOKENS, output_dim=EMBED_DIM, input_length=MAX_LEN, name=\"embedding\")(x)\n",
    "x = layers.LSTM(units=128, name=\"hidden_lstm\")(x)\n",
    "\n",
    "meta_input = layers.Input(shape=train_meta.shape[1:], name=\"meta_input\")\n",
    "y = layers.Concatenate()([x, meta_input])\n",
    "y = layers.Dense(units=256, activation=\"selu\", kernel_initializer=\"lecun_normal\", name=\"hidden_dense_1\")(y)\n",
    "y = layers.BatchNormalization()(y)\n",
    "y = layers.Dense(units=64, activation=\"selu\", kernel_initializer=\"lecun_normal\", name=\"hidden_dense_2\")(y)\n",
    "y = layers.Dense(units=NUM_CLASSES, activation=\"softmax\", name=\"softmax_output\")(y)\n",
    "\n",
    "model = Model(inputs=[text_input, meta_input], outputs=y, name=\"NLP_Model\")\n",
    "\n",
    "model.compile(\n",
    "    optimizer=\"adam\",\n",
    "    loss=\"sparse_categorical_crossentropy\",\n",
    "    metrics=[\"accuracy\"]\n",
    ")\n",
    "\n",
    "model.summary()"
   ]
  },
  {
   "cell_type": "code",
   "execution_count": 16,
   "metadata": {
    "execution": {
     "iopub.execute_input": "2022-02-28T22:04:38.720210Z",
     "iopub.status.busy": "2022-02-28T22:04:38.719425Z",
     "iopub.status.idle": "2022-02-28T22:04:39.618258Z",
     "shell.execute_reply": "2022-02-28T22:04:39.617789Z"
    },
    "papermill": {
     "duration": 0.930375,
     "end_time": "2022-02-28T22:04:39.618375",
     "exception": false,
     "start_time": "2022-02-28T22:04:38.688000",
     "status": "completed"
    },
    "tags": []
   },
   "outputs": [
    {
     "data": {
      "image/jpeg": "[encoded data removed]",
      "text/plain": [
       "<IPython.core.display.Image object>"
      ]
     },
     "execution_count": 16,
     "metadata": {},
     "output_type": "execute_result"
    }
   ],
   "source": [
    "from tensorflow.keras.utils import plot_model\n",
    "\n",
    "\n",
    "plot_model(\n",
    "    model=model,\n",
    "    to_file=\"model.jpeg\",\n",
    "    show_shapes=True\n",
    ")"
   ]
  },
  {
   "cell_type": "code",
   "execution_count": 17,
   "metadata": {
    "execution": {
     "iopub.execute_input": "2022-02-28T22:04:39.686382Z",
     "iopub.status.busy": "2022-02-28T22:04:39.685785Z",
     "iopub.status.idle": "2022-02-28T22:04:39.689695Z",
     "shell.execute_reply": "2022-02-28T22:04:39.689247Z"
    },
    "papermill": {
     "duration": 0.040044,
     "end_time": "2022-02-28T22:04:39.689798",
     "exception": false,
     "start_time": "2022-02-28T22:04:39.649754",
     "status": "completed"
    },
    "tags": []
   },
   "outputs": [],
   "source": [
    "from tensorflow.keras.callbacks import ReduceLROnPlateau, EarlyStopping\n",
    "\n",
    "\n",
    "reduce_lr = ReduceLROnPlateau(\n",
    "    monitor=\"val_loss\",\n",
    "    factor=0.5,\n",
    "    patience=5,\n",
    "    verbose=True\n",
    ")\n",
    "\n",
    "early_stop = EarlyStopping(\n",
    "    monitor=\"val_loss\",\n",
    "    patience=20,\n",
    "    restore_best_weights=True,\n",
    "    verbose=True\n",
    ")\n",
    "\n",
    "callbacks = [reduce_lr, early_stop]"
   ]
  },
  {
   "cell_type": "code",
   "execution_count": 18,
   "metadata": {
    "execution": {
     "iopub.execute_input": "2022-02-28T22:04:39.755684Z",
     "iopub.status.busy": "2022-02-28T22:04:39.754953Z",
     "iopub.status.idle": "2022-02-28T22:10:17.408935Z",
     "shell.execute_reply": "2022-02-28T22:10:17.409529Z"
    },
    "papermill": {
     "duration": 337.690042,
     "end_time": "2022-02-28T22:10:17.409730",
     "exception": false,
     "start_time": "2022-02-28T22:04:39.719688",
     "status": "completed"
    },
    "tags": []
   },
   "outputs": [
    {
     "name": "stdout",
     "output_type": "stream",
     "text": [
      "Epoch 1/100\n"
     ]
    },
    {
     "name": "stderr",
     "output_type": "stream",
     "text": [
      "2022-02-28 22:04:42.554052: I tensorflow/stream_executor/cuda/cuda_dnn.cc:369] Loaded cuDNN version 8005\n"
     ]
    },
    {
     "name": "stdout",
     "output_type": "stream",
     "text": [
      "439/439 [==============================] - 18s 32ms/step - loss: 1.0932 - accuracy: 0.5778 - val_loss: 0.9983 - val_accuracy: 0.6203\n",
      "Epoch 2/100\n",
      "439/439 [==============================] - 14s 32ms/step - loss: 0.9707 - accuracy: 0.6291 - val_loss: 1.0745 - val_accuracy: 0.6071\n",
      "Epoch 3/100\n",
      "439/439 [==============================] - 13s 31ms/step - loss: 0.9378 - accuracy: 0.6449 - val_loss: 1.0032 - val_accuracy: 0.6128\n",
      "Epoch 4/100\n",
      "439/439 [==============================] - 13s 31ms/step - loss: 0.9061 - accuracy: 0.6613 - val_loss: 0.9909 - val_accuracy: 0.6196\n",
      "Epoch 5/100\n",
      "439/439 [==============================] - 14s 32ms/step - loss: 0.8882 - accuracy: 0.6699 - val_loss: 1.0305 - val_accuracy: 0.6169\n",
      "Epoch 6/100\n",
      "439/439 [==============================] - 14s 31ms/step - loss: 0.8668 - accuracy: 0.6800 - val_loss: 1.1798 - val_accuracy: 0.5833\n",
      "Epoch 7/100\n",
      "439/439 [==============================] - 14s 32ms/step - loss: 0.8393 - accuracy: 0.6939 - val_loss: 0.9947 - val_accuracy: 0.6433\n",
      "Epoch 8/100\n",
      "439/439 [==============================] - 14s 31ms/step - loss: 0.8151 - accuracy: 0.7056 - val_loss: 1.0835 - val_accuracy: 0.6195\n",
      "Epoch 9/100\n",
      "439/439 [==============================] - 14s 33ms/step - loss: 0.8079 - accuracy: 0.7081 - val_loss: 1.1277 - val_accuracy: 0.6119\n",
      "\n",
      "Epoch 00009: ReduceLROnPlateau reducing learning rate to 0.0005000000237487257.\n",
      "Epoch 10/100\n",
      "439/439 [==============================] - 14s 31ms/step - loss: 0.7468 - accuracy: 0.7358 - val_loss: 1.0456 - val_accuracy: 0.6446\n",
      "Epoch 11/100\n",
      "439/439 [==============================] - 14s 32ms/step - loss: 0.7245 - accuracy: 0.7460 - val_loss: 1.0394 - val_accuracy: 0.6296\n",
      "Epoch 12/100\n",
      "439/439 [==============================] - 14s 32ms/step - loss: 0.7060 - accuracy: 0.7539 - val_loss: 1.0605 - val_accuracy: 0.6363\n",
      "Epoch 13/100\n",
      "439/439 [==============================] - 14s 31ms/step - loss: 0.6927 - accuracy: 0.7596 - val_loss: 1.0645 - val_accuracy: 0.6333\n",
      "Epoch 14/100\n",
      "439/439 [==============================] - 14s 33ms/step - loss: 0.6780 - accuracy: 0.7656 - val_loss: 1.1216 - val_accuracy: 0.6264\n",
      "\n",
      "Epoch 00014: ReduceLROnPlateau reducing learning rate to 0.0002500000118743628.\n",
      "Epoch 15/100\n",
      "439/439 [==============================] - 13s 31ms/step - loss: 0.6411 - accuracy: 0.7815 - val_loss: 1.1495 - val_accuracy: 0.6315\n",
      "Epoch 16/100\n",
      "439/439 [==============================] - 14s 32ms/step - loss: 0.6275 - accuracy: 0.7871 - val_loss: 1.1765 - val_accuracy: 0.6315\n",
      "Epoch 17/100\n",
      "439/439 [==============================] - 14s 32ms/step - loss: 0.6151 - accuracy: 0.7926 - val_loss: 1.1910 - val_accuracy: 0.6292\n",
      "Epoch 18/100\n",
      "439/439 [==============================] - 14s 32ms/step - loss: 0.6055 - accuracy: 0.7959 - val_loss: 1.2419 - val_accuracy: 0.6219\n",
      "Epoch 19/100\n",
      "439/439 [==============================] - 14s 32ms/step - loss: 0.5956 - accuracy: 0.8000 - val_loss: 1.2642 - val_accuracy: 0.6288\n",
      "\n",
      "Epoch 00019: ReduceLROnPlateau reducing learning rate to 0.0001250000059371814.\n",
      "Epoch 20/100\n",
      "439/439 [==============================] - 14s 31ms/step - loss: 0.5710 - accuracy: 0.8113 - val_loss: 1.2946 - val_accuracy: 0.6265\n",
      "Epoch 21/100\n",
      "439/439 [==============================] - 14s 33ms/step - loss: 0.5629 - accuracy: 0.8142 - val_loss: 1.3025 - val_accuracy: 0.6210\n",
      "Epoch 22/100\n",
      "439/439 [==============================] - 14s 31ms/step - loss: 0.5559 - accuracy: 0.8162 - val_loss: 1.3036 - val_accuracy: 0.6227\n",
      "Epoch 23/100\n",
      "439/439 [==============================] - 14s 32ms/step - loss: 0.5485 - accuracy: 0.8203 - val_loss: 1.3275 - val_accuracy: 0.6178\n",
      "Epoch 24/100\n",
      "439/439 [==============================] - 14s 32ms/step - loss: 0.5406 - accuracy: 0.8232 - val_loss: 1.3446 - val_accuracy: 0.6212\n",
      "\n",
      "Epoch 00024: ReduceLROnPlateau reducing learning rate to 6.25000029685907e-05.\n",
      "Restoring model weights from the end of the best epoch.\n",
      "Epoch 00024: early stopping\n"
     ]
    }
   ],
   "source": [
    "history = model.fit(\n",
    "    x=[train_text, train_meta],\n",
    "    y=train_target,\n",
    "    batch_size=256,\n",
    "    epochs=100,\n",
    "    verbose=1,\n",
    "    callbacks=callbacks,\n",
    "    validation_data=([val_text, val_meta], val_target),\n",
    "    shuffle=True\n",
    ")"
   ]
  },
  {
   "cell_type": "code",
   "execution_count": 19,
   "metadata": {
    "execution": {
     "iopub.execute_input": "2022-02-28T22:10:20.768959Z",
     "iopub.status.busy": "2022-02-28T22:10:20.768285Z",
     "iopub.status.idle": "2022-02-28T22:11:11.161276Z",
     "shell.execute_reply": "2022-02-28T22:11:11.160687Z"
    },
    "papermill": {
     "duration": 52.063343,
     "end_time": "2022-02-28T22:11:11.161413",
     "exception": false,
     "start_time": "2022-02-28T22:10:19.098070",
     "status": "completed"
    },
    "tags": []
   },
   "outputs": [
    {
     "name": "stdout",
     "output_type": "stream",
     "text": [
      "877/877 [==============================] - 7s 8ms/step - loss: 0.9909 - accuracy: 0.6196\n"
     ]
    },
    {
     "data": {
      "text/plain": [
       "[0.9908987283706665, 0.6196399927139282]"
      ]
     },
     "execution_count": 19,
     "metadata": {},
     "output_type": "execute_result"
    }
   ],
   "source": [
    "model.evaluate([val_text, val_meta], val_target)"
   ]
  },
  {
   "cell_type": "code",
   "execution_count": null,
   "metadata": {
    "papermill": {
     "duration": 1.705342,
     "end_time": "2022-02-28T22:11:14.581622",
     "exception": false,
     "start_time": "2022-02-28T22:11:12.876280",
     "status": "completed"
    },
    "tags": []
   },
   "outputs": [],
   "source": []
  }
 ],
 "metadata": {
  "kernelspec": {
   "display_name": "Python 3",
   "language": "python",
   "name": "python3"
  },
  "language_info": {
   "codemirror_mode": {
    "name": "ipython",
    "version": 3
   },
   "file_extension": ".py",
   "mimetype": "text/x-python",
   "name": "python",
   "nbconvert_exporter": "python",
   "pygments_lexer": "ipython3",
   "version": "3.8.7"
  },
  "papermill": {
   "default_parameters": {},
   "duration": 482.831734,
   "end_time": "2022-02-28T22:11:20.025832",
   "environment_variables": {},
   "exception": null,
   "input_path": "__notebook__.ipynb",
   "output_path": "__notebook__.ipynb",
   "parameters": {},
   "start_time": "2022-02-28T22:03:17.194098",
   "version": "2.3.3"
  }
 },
 "nbformat": 4,
 "nbformat_minor": 5
}
